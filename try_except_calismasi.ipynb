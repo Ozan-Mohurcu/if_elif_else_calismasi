{
 "cells": [
  {
   "cell_type": "markdown",
   "metadata": {},
   "source": [
    "#### <span style=\"color: red;\">SORU-1</span>\n",
    "- Kullanıcıdan iki sayı girmesini isteyen bir program yazın ve bu sayıları bölen bir kod ekleyin. Ancak sıfıra bölme hatasını ele alın."
   ]
  },
  {
   "cell_type": "code",
   "execution_count": null,
   "metadata": {},
   "outputs": [
    {
     "name": "stdout",
     "output_type": "stream",
     "text": [
      "bir sayinin 0 a bölünmesi tanimsizdir, integer division or modulo by zero\n"
     ]
    }
   ],
   "source": [
    "girdi = int(input('lütfen  birinci sayi giriniz'))   # Kullanıcıdan bir sayi istiyoruz ve int'e dönüştürüyoruz.\n",
    "girdi2 = int(input('lütfen  birinci sayi giriniz'))  # Kullanıcıdan ikinci bir sayi istiyoruz ve int'e dönüştürüyoruz.\n",
    "\n",
    "try:\n",
    "    x = girdi // girdi2                                 # // Yalnızca bölümün tam kısmını döner.\n",
    "    print(f\"girilen birinci sayi {girdi} ikinci sayi ise {girdi2} ve ikisinin bölümü {x}\")\n",
    "    \n",
    "except Exception as ERROR:                              # kullanıcı 2 sayıdan birini 0 girmesi durumunda hata mesajı gelir.\n",
    "    print(f\"bir sayinin 0 a bölünmesi tanimsizdir, {ERROR}\")\n",
    "\n"
   ]
  },
  {
   "cell_type": "markdown",
   "metadata": {},
   "source": [
    "#### <span style=\"color: red;\">SORU-2</span>\n",
    "\n",
    "- Kullanıcıdan bir tam sayı girmesini isteyen bir program yazın ve girilen değeri bir tamsayıya dönüştürmeye çalışın. Ancak kullanıcının geçerli bir tam sayı girmemesi durumunda bir hata mesajı verin."
   ]
  },
  {
   "cell_type": "code",
   "execution_count": null,
   "metadata": {},
   "outputs": [
    {
     "name": "stdout",
     "output_type": "stream",
     "text": [
      "girdiğiniz sayi tam sayi değildir invalid literal for int() with base 10: '10,3'.\n"
     ]
    }
   ],
   "source": [
    "tam_sayi = input('lütfen bir tam sayi giriniz')           # Kullanıcıdan bir tam sayi girmesini istiyoruz.\n",
    "\n",
    "try:\n",
    "    x = int(tam_sayi)                                     # Kullanıcı girdisini integer'a çeviriyoruz.\n",
    "    print(f\"girdiğiniz sayi {x}\")\n",
    "except Exception as Error:                                # Kullanıcı tam bir sayi girmediği durumda except bloğu çalışır.\n",
    "    print(f\"girdiğiniz sayi tam sayi değildir {Error}.\")"
   ]
  },
  {
   "cell_type": "markdown",
   "metadata": {},
   "source": [
    "#### <span style=\"color: red;\">SORU-3</span>\n",
    "\n",
    "- Bir liste içinde belirli bir endekse sahip bir öğeyi yazdırmak istiyorsunuz. Ancak belirtilen endeks liste boyutunu aşabilir. Bu durumu ele alın"
   ]
  },
  {
   "cell_type": "code",
   "execution_count": null,
   "metadata": {},
   "outputs": [
    {
     "name": "stdout",
     "output_type": "stream",
     "text": [
      "Git\n",
      "Mevcut listenin boyutu 3'dür. Çağirmaya çaliştiğiniz index listenin boyutundan uzun olamaz.\n"
     ]
    }
   ],
   "source": [
    "liste = ['ozan', 'İstanbul', 'datascience', [1, 2 , 3], 'Git', 'Github']  # bir liste tanımladık.\n",
    "\n",
    "try:\n",
    "    print(liste[4])                         # liste'de bulunan 4'üncü indexi çağırıyoruz.\n",
    "    print(liste[3][9])                      # daha sonra 3'üncü index'de bulunan elamnı çağırıp 9'uncu index'ini isityoruz.\n",
    "except:                                     # 92unci index koşulu sağlanmadığı için except koşuluna geçiyor.\n",
    "    print(f\"Mevcut listenin boyutu {len(liste[3])}'dür. Çağirmaya çaliştiğiniz index listenin boyutundan uzun olamaz.\")"
   ]
  },
  {
   "cell_type": "markdown",
   "metadata": {},
   "source": [
    "#### <span style=\"color: red;\">SORU-4</span>\n",
    "\n",
    "- Kullanıcıdan bir sayı girmesini isteyin ve bu sayıyı bir ondalık sayıya dönüştürmeye çalışın. Ancak kullanıcının sayı yerine metin girmesi durumunda bir hata mesajı verin."
   ]
  },
  {
   "cell_type": "code",
   "execution_count": null,
   "metadata": {},
   "outputs": [
    {
     "name": "stdout",
     "output_type": "stream",
     "text": [
      "Metin giremezsiniz.\n"
     ]
    }
   ],
   "source": [
    "kullanici_girdi = input(\"lütfen bir sayi giriniz\")    # Kullancııdan bir sayi girmesini istiyoruz.\n",
    "\n",
    "\n",
    "try:\n",
    "    ondalik_sayi = float(kullanici_girdi)             # Kullanıcının girmiş olduğu sayıyı float'a dönüştürüyoruz.\n",
    "    print(f\"girdiğiniz sayi {kullanici_girdi} ve ondalık sayiya dönüşmüş hali {ondalik_sayi}\")\n",
    "except:\n",
    "    print(f\"Metin giremezsiniz.\")                     # Eğer kullanıcı metin girmiş ise except bloğu çalışır. "
   ]
  },
  {
   "cell_type": "markdown",
   "metadata": {},
   "source": [
    "#### <span style=\"color: red;\">SORU-5</span>\n",
    "\n",
    "- Kullanıcıdan iki sayı girmesini isteyen bir program yazın ve bu sayıları toplamaya çalışın. Ancak kullanıcının sayı yerine başka bir veri türü girmesi durumunda bir hata mesajı verin."
   ]
  },
  {
   "cell_type": "code",
   "execution_count": null,
   "metadata": {},
   "outputs": [
    {
     "name": "stdout",
     "output_type": "stream",
     "text": [
      "hata algılandı sayi harici baska bir veri giremezsiniz invalid literal for int() with base 10: 'tecpro'\n"
     ]
    }
   ],
   "source": [
    "sayi1 = input('lütfen bir sayi giriniz')        # Kullancııdan bir sayi girmesini istiyoruz.\n",
    "sayi2 = input('lütfen bir sayi giriniz')        # Kullancııdan bir sayi girmesini istiyoruz.\n",
    "\n",
    "try:\n",
    "    toplam = int(sayi1) + int(sayi2)            # Kullanıcının girmiş olduğu sayıları integer'a dönüştürüyoruz.\n",
    "    print(f\"girdiğiniz sayilar {sayi1} ve {sayi2}dir. bunların toplamı {toplam} olur.\")\n",
    "except Exception as ERRoR:                      # Kullanıcı sayı harici bir metin,noktalama işareti girdiği durumda except bloğu çalışır.\n",
    "    print(f'hata algılandı sayi harici baska bir veri giremezsiniz {ERRoR}')  "
   ]
  },
  {
   "cell_type": "markdown",
   "metadata": {},
   "source": [
    "#### <span style=\"color: red;\">SORU-6</span>\n",
    "\n",
    "- Kullanıcıdan bir sayı girmesini isteyen bir program yazın ve bu sayıyı kullanarak 10'a bölmeye çalışın. Ancak kullanıcının sıfır girmesi durumunda bir hata mesajı verin."
   ]
  },
  {
   "cell_type": "code",
   "execution_count": null,
   "metadata": {},
   "outputs": [
    {
     "name": "stdout",
     "output_type": "stream",
     "text": [
      "Hata: lütfen geçerli bir sayi giriniz\n"
     ]
    }
   ],
   "source": [
    "sayi1 = input('lütfen bir sayi giriniz')    # Kullancııdan bir sayi girmesini istiyoruz.\n",
    "\n",
    "try:\n",
    "    sayi = int(sayi1)                       # Kullanıcının girmiş olduğı sayıyı integer'a dönüştürüyoruz. \n",
    "    if sayi == 0:\n",
    "        print('HATA!!!')                    # Kullanıcı 0 girmesi durumunda bu HATA!!! mesajı çıktı olur. \n",
    "    else:\n",
    "        x = sayi // 10                      # Kullanıcı istenilen şekilde bir sayı girmesi durumunda bu kod bloğu çalışır.\n",
    "        print(f\"girdiğiniz sayi: {sayi} ve 10 a bölümü {x} olur.\")\n",
    "except ValueError:                          # Kullanıcı 0 girmesi durumunda except bloğu çalışır.\n",
    "    print(\"Hata: lütfen geçerli bir sayi giriniz\")\n"
   ]
  },
  {
   "cell_type": "markdown",
   "metadata": {},
   "source": [
    "#### <span style=\"color: red;\">SORU-7</span>\n",
    "\n",
    "- Kullanıcıdan bir dil kodu girmesini isteyen bir program yazın ve bu kodu bir dil adına çevirmeye çalışın. Ancak belirli bir dil kodu sözlüğünde olmayan bir kod girilirse bir hata mesajı verin."
   ]
  },
  {
   "cell_type": "code",
   "execution_count": null,
   "metadata": {},
   "outputs": [
    {
     "name": "stdout",
     "output_type": "stream",
     "text": [
      "istediğiniz dil  Türkçe\n"
     ]
    }
   ],
   "source": [
    "dil_kodlari = {\n",
    "    'tr' : 'Türkçe',\n",
    "    'en' : 'İngilizce',\n",
    "    'fr' : 'Fransızca',\n",
    "    'de' : 'Almanca'\n",
    "}                                     # dil kodları ve dil kodlarının karşılılığı bir dict olarak verilmiş.          \n",
    "\n",
    "istenilen_dil = input('lütfen öğrenmek istediğiniz bir dil kodu giriniz').lower()  # kulanıcının büyük harf girme ihtimaline karşı girdi lower() ile küçük harfe dönüştürülmüştür.\n",
    "\n",
    "if istenilen_dil in dil_kodlari:          # dil kodları içinde istenilen dil var mı diye aranmıştır.\n",
    "    print(f\"istediğiniz dil \", dil_kodlari[istenilen_dil])\n",
    "else:                                      # dil kodlarında girilen dil kodu sağlanmadığında else bloğu çalışır.\n",
    "    print(\"böyle bir dil kodu yoktur.\")\n",
    "\n"
   ]
  },
  {
   "cell_type": "markdown",
   "metadata": {},
   "source": [
    "#### <span style=\"color: red;\">SORU-8</span>\n",
    "\n",
    "- Kullanıcıdan bir dosya adı girmesini isteyen bir program yazın ve bu dosyayı açmaya çalışın. Ancak dosya bulunamazsa veya açılamazsa bir hata mesajı verin."
   ]
  },
  {
   "cell_type": "code",
   "execution_count": null,
   "metadata": {},
   "outputs": [
    {
     "name": "stdout",
     "output_type": "stream",
     "text": [
      "Hata: 'ozan' dosyasi bulunamadi.\n"
     ]
    }
   ],
   "source": [
    "dosya_adi = input(\"Lütfen açmak istediğiniz dosyanin adini girin\")  # Kullanıcıdan açmak istediği dosyanın adını alıyoruz.\n",
    "\n",
    "try:\n",
    "    with open(dosya_adi, 'r') as dosya:                  # Dosya açma işlemi başlatılıyor.\n",
    "        icerik = dosya.read()                            # Dosyanın tüm içeriğini okuyoruz.\n",
    "        print(\"Dosyanın içeriği:\")\n",
    "        print(icerik)                                    # Dosyanın içeriğini ekrana yazdırıyoruz.\n",
    "except Exception as Error:                               # Eğer dosya açma veya okuma sırasında hata olursa bu blok çalışır.\n",
    "    print(f\"Hata: '{dosya_adi}' dosyasi bulunamadi.\")"
   ]
  },
  {
   "cell_type": "markdown",
   "metadata": {},
   "source": [
    "#### <span style=\"color: red;\">SORU-9</span>\n",
    "\n",
    "- Kullanıcıdan bir pozitif sayı girmesini isteyen bir program yazın ve bu sayının pozitif olup olmadığını kontrol edin. Ancak kullanıcının pozitif olmayan bir sayı girmesi durumunda bir hata mesajı verin."
   ]
  },
  {
   "cell_type": "code",
   "execution_count": null,
   "metadata": {},
   "outputs": [
    {
     "name": "stdout",
     "output_type": "stream",
     "text": [
      "Hata, lütfen bir pozitif sayi giriniz invalid literal for int() with base 10: '15,5'\n"
     ]
    }
   ],
   "source": [
    "try:\n",
    "    pozitif_sayi = int(input(\"lütfen pozitif bir sayi giriniz\"))        # Kullanıcıdan pozitif bir sayı alınıyor.\n",
    "                                                                        # Girilen sayının pozitif olup olmadığı kontrol ediliyor.\n",
    "\n",
    "    if pozitif_sayi <= 0:                                               # Eğer sayı 0 veya negatifse, hata fırlatıyoruz.\n",
    "        raise ValueError(\"Girdiğiniz sayi pozitif değildir.\")\n",
    "    else:                                                               # Eğer sayı pozitifse, ekrana yazdırılır.\n",
    "        print(f\"Girdiğiniz sayi {pozitif_sayi}\")\n",
    "\n",
    "\n",
    "except ValueError as error:                                             # Eğer ValueError oluşursa, hata mesajı yazdırılır\n",
    "    print(f\"Hata, lütfen bir pozitif sayi giriniz {error}\")"
   ]
  },
  {
   "cell_type": "markdown",
   "metadata": {},
   "source": [
    "#### <span style=\"color: red;\">SORU-10</span>\n",
    "\n",
    "- Kullanıcıdan bir tamsayı girmesini isteyen bir program yazın ve bu tamsayıyı bir ondalık sayıya dönüştürmeye çalışın. Ancak tamsayı girmeyen kullanıcılara uygun bir hata mesajı verin."
   ]
  },
  {
   "cell_type": "code",
   "execution_count": null,
   "metadata": {},
   "outputs": [
    {
     "name": "stdout",
     "output_type": "stream",
     "text": [
      "Girdiğiniz sayi 15 ve ondalik sayiya dönüşmüş hali 15.0\n"
     ]
    }
   ],
   "source": [
    "try:\n",
    "\n",
    "    tam_sayi = int(input(\"lütfen bir tam sayi giriniz\"))        # Kullanıcıdan giriş alınıyor ve int() ile tam sayıya dönüştürülüyor.\n",
    "\n",
    "    ondalik_sayi = float(tam_sayi)                              # 'tam_sayi' değişkeni, float() ile ondalıklı sayıya dönüştürülüyor.\n",
    "\n",
    "    print(f\"Girdiğiniz sayi {tam_sayi} ve ondalik sayiya dönüşmüş hali {ondalik_sayi}\")   # Kullanıcının girdiği tam sayı ve onun ondalıklı hali yazdırılıyor.\n",
    "\n",
    "except ValueError:                                              # Eğer kullanıcı geçersiz bir giriş yaparsa, bu blok çalışır\n",
    "\n",
    "    print(f\"Girdiğiniz  sayi bir tam sayi değildir, lütfen tekrar deneyiniz.\")    # Kullanıcı geçerli bir tam sayı girmezse, hata mesajı yazdırılır."
   ]
  }
 ],
 "metadata": {
  "kernelspec": {
   "display_name": "Python 3",
   "language": "python",
   "name": "python3"
  },
  "language_info": {
   "codemirror_mode": {
    "name": "ipython",
    "version": 3
   },
   "file_extension": ".py",
   "mimetype": "text/x-python",
   "name": "python",
   "nbconvert_exporter": "python",
   "pygments_lexer": "ipython3",
   "version": "3.12.6"
  }
 },
 "nbformat": 4,
 "nbformat_minor": 2
}

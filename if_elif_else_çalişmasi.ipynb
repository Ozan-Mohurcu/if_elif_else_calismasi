{
 "cells": [
  {
   "cell_type": "markdown",
   "metadata": {},
   "source": [
    "### <span style=\"color:red\">SORU-1</span>\n",
    "\n",
    "- Status kodunu kullanicidan aliniz, \n",
    "- eger status code  \n",
    "- 200 ise Basarili \n",
    "- 400 ise bad Request\n",
    "- 500 ise Server Error\n",
    "- yazdiran programi yazin"
   ]
  },
  {
   "cell_type": "markdown",
   "metadata": {},
   "source": [
    "#### <span style=\"color:red\">CEVAP</span>"
   ]
  },
  {
   "cell_type": "code",
   "execution_count": 12,
   "metadata": {},
   "outputs": [
    {
     "name": "stdout",
     "output_type": "stream",
     "text": [
      "Basarili\n"
     ]
    }
   ],
   "source": [
    "\n",
    "status_code = input('Status code u giriniz.') # kullanıcıdan bir girdi istenir.\n",
    "if status_code.isnumeric():   # nümerik olup olmadığı kontrol edilir.\n",
    "    status_code = int(status_code) # integer'a dönüştürülür.\n",
    "    if status_code == 200:   # 200'e eşitse bu kod bloğu çalışır.\n",
    "        print('Basarili')\n",
    "    elif status_code == 400:  # 400'e eşitse bu kod bloğu çalışır.\n",
    "        print('Bad request')\n",
    "    elif status_code == 500:  #500'e eşitse bu kod bloğu çalışır.\n",
    "        print('Server Error')\n",
    "    else :\n",
    "        print('200, 400 veya 500 kodlarindan birini giriniz')  # Belirtilen sayıdan farklı bir sayı veya ifade girerse bu kod bloğu çalışır.\n",
    "else:\n",
    "    print('sayi giriniz')  # string ifade girilirse bu kod bloğu çalışır. "
   ]
  },
  {
   "cell_type": "markdown",
   "metadata": {},
   "source": [
    "### <span style=\"color:red\">SORU-2</span>\n",
    "- kullanicidan bir sayi alin, \n",
    "- bu sayi 3 e bolunebiliyorsa 'Git'\n",
    "- 5 e bolunebiliyorsa 'hub',\n",
    "- hem 5 e hem de 3 e bolunebiliyorsa 'Github' yazdirin\n",
    "- sayi bu sartlarin hicbirisini saglamiyorsa sayinin kendisini yazdiran python kodunu yazin\n"
   ]
  },
  {
   "cell_type": "markdown",
   "metadata": {},
   "source": [
    "#### <span style=\"color:red\">CEVAP</span>"
   ]
  },
  {
   "cell_type": "code",
   "execution_count": null,
   "metadata": {},
   "outputs": [
    {
     "name": "stdout",
     "output_type": "stream",
     "text": [
      "Github\n"
     ]
    }
   ],
   "source": [
    "sayi = int(input(\"Bir sayı girin: \"))     # Kullanıcıdan bir sayı alıyoruz\n",
    "\n",
    "\n",
    "if sayi % 3 == 0 and sayi % 5 == 0:   # hem 3'e hemde'de 5 tam  bölünebilen bir sayı ise bu kod bloğu çalışır.\n",
    "    print(\"Github\")\n",
    "elif sayi % 3 == 0:                   # Sadece 3'e tam bölünebilen bir sayı ise bu kod bloğu çalışır.\n",
    "    print(\"Git\")\n",
    "elif sayi % 5 == 0:                   # Sadece 5'e tam bölünebilen bir sayı ise bu kod bloğu çalışır.\n",
    "    print(\"hub\")\n",
    "else:\n",
    "    print(sayi)                       # çıktımızı burada verecek.\n"
   ]
  },
  {
   "cell_type": "markdown",
   "metadata": {},
   "source": [
    "### <span style=\"color:red\">SORU-3</span>\n",
    "\n",
    "- Soru: Bir restoran, müşterilerine sipariş verdikleri yemeklerin toplam tutarına\n",
    "- göre servis ücreti uygulamaktadır. Toplam sipariş tutarına göre servis ücreti şu şekildedir:\n",
    "- Eğer sipariş tutarı 200 TL ve üzerindeyse, servis ücreti yoktur.\n",
    "- Eğer sipariş tutarı 100 TL ile 199 TL arasındaysa, %5 servis ücreti uygulanır.\n",
    "- Eğer sipariş tutarı 50 TL ile 99 TL arasındaysa, %10 servis ücreti uygulanır.\n",
    "- Eğer sipariş tutarı 50 TL'nin altındaysa, %15 servis ücreti uygulanır.\n",
    "- Sipariş tutarını input olarak alan ve uygulanacak servis ücretini hesaplayarak ödenecek \n",
    "- toplam tutarı ekrana yazdıran bir program yazın.\n"
   ]
  },
  {
   "cell_type": "markdown",
   "metadata": {},
   "source": [
    "#### <span style=\"color:red\">CEVAP</span>"
   ]
  },
  {
   "cell_type": "code",
   "execution_count": 14,
   "metadata": {},
   "outputs": [
    {
     "name": "stdout",
     "output_type": "stream",
     "text": [
      "Sipariş Tutarınız: 150.0TL, Servis ücreti: 7.5 TL, Ödenecek toplam tutar: 157.5 TL\n"
     ]
    }
   ],
   "source": [
    "siparis_tutari = float(input(\"Sipariş tutarını girin: \"))  # Kullanıcıdan sipariş tutarını alıyoruz\n",
    "\n",
    "\n",
    "if siparis_tutari >= 200:                       # 200'e eşit 200'den yüksekse bu kod bloğu çalışır.\n",
    "    servis_ucreti = 0              \n",
    "elif siparis_tutari >= 100:                     # 100'e eşit 100'den yüksekse bu kod bloğu çalışır ve %5 servis ücreti eklenir.\n",
    "    servis_ucreti = siparis_tutari * 0.05      \n",
    "elif siparis_tutari >= 50:                     # 50'ee eşit 50'den yüksekse bu kod bloğu çalışır ve %10 servis ücreti eklenir.\n",
    "    servis_ucreti = siparis_tutari * 0.10\n",
    "else:\n",
    "    servis_ucreti = siparis_tutari * 0.15      # 49'dan düşük ise  bu kod bloğu çalışır ve %15 servis ücreti eklenir.\n",
    "\n",
    "\n",
    "toplam_tutar = siparis_tutari + servis_ucreti   # Ödenecek toplam tutarı hesaplıyoruz\n",
    "\n",
    "print(f\"Sipariş Tutarınız: {siparis_tutari}TL, Servis ücreti: {servis_ucreti} TL, Ödenecek toplam tutar: {toplam_tutar} TL\")\n",
    "\n"
   ]
  },
  {
   "cell_type": "markdown",
   "metadata": {},
   "source": [
    "<span style=\"color:red\">SORU-4</span>\n",
    "\n",
    "- Size iki sayı ve aşağıdaki operatörlerden biri verilecektir; \n",
    "- 'add' (topla), 'subtract' (çıkar), 'multiply' (çarp), 'divide' (böl). \n",
    "- Verilen operasyona bağlı olarak sayılar arasında uygun işlemi gerçekleştiren bir fonksiyon yazın. \n",
    "- Örneğin, eğer size 5, 7 ve 'multiply' (çarp) verilirse, 5 * 7 işlemini yapmanız ve sonucu (35) ekrana\n",
    "- yazdırmanız gerekir. Eğer kullanıcı operatörü yanlış girerse,\n",
    "- şu mesajı yazdırın: 'Lütfen operatörlerden birini seçin (add, subtract, divide, multiply)'.\n"
   ]
  },
  {
   "cell_type": "markdown",
   "metadata": {},
   "source": [
    "#### <span style=\"color:red\">CEVAP</span>"
   ]
  },
  {
   "cell_type": "code",
   "execution_count": null,
   "metadata": {},
   "outputs": [
    {
     "name": "stdout",
     "output_type": "stream",
     "text": [
      "Yapmak istediğiniz işlem sonucu Bolme isleminde 2.sayi sifir olamaz\n"
     ]
    }
   ],
   "source": [
    "sayi1 = int(input(\"Birinci sayiyi girin: \"))    # birinci sayı için kullanıdan girdi istiyoruz.\n",
    "\n",
    "sayi2 = int(input(\"İkinci sayiyi girin: \"))     # ikinci sayı için kullanıdan girdi istiyoruz.\n",
    "\n",
    "operator = input(\"Operatörü girin (add, subtract, multiply, divide): \")   # kullanıcıdan yapmak istediği işlemi istiyoruz.\n",
    "\n",
    "if operator == 'add' :          # Kullanıcı 2 sayi girişinden sonra 'add' yazar ise bu kod bloğu çalışır.\n",
    "    sonuc = sayi1 + sayi2\n",
    "elif operator == 'subtract' :   # Kullanıcı 2 sayi girişinden sonra 'subtract' yazar ise bu kod bloğu çalışır.\n",
    "    sonuc = sayi1 - sayi2\n",
    "elif operator == 'multiply' :   # Kullanıcı 2 sayi girişinden sonra 'multiply' yazar ise bu kod bloğu çalışır.\n",
    "    sonuc = sayi1 * sayi2\n",
    "elif operator == 'divide' :     # Kullanıcı 2 sayi girişinden sonra 'divide' yazar ise bu kod bloğu çalışır.\n",
    "    if sayi2 != 0 :\n",
    "        sonuc = sayi1 / sayi2 \n",
    "    else:\n",
    "        sonuc = 'Bolme isleminde 2.sayi sifir olamaz'     # kullanıcı sayılardan birini 0 girmesi durumunda bu kod bloğu çalışır.\n",
    "else :\n",
    "    'Lütfen operatörlerden birini seçin (add, subtract, divide, multiply)'  # farklı bir kriter girmesi durumunda bu kod bloğu çalışır.\n",
    "\n",
    "\n",
    "print('Yapmak istediğiniz işlem sonucu', sonuc)"
   ]
  }
 ],
 "metadata": {
  "kernelspec": {
   "display_name": "Python 3",
   "language": "python",
   "name": "python3"
  },
  "language_info": {
   "codemirror_mode": {
    "name": "ipython",
    "version": 3
   },
   "file_extension": ".py",
   "mimetype": "text/x-python",
   "name": "python",
   "nbconvert_exporter": "python",
   "pygments_lexer": "ipython3",
   "version": "3.12.6"
  }
 },
 "nbformat": 4,
 "nbformat_minor": 2
}
